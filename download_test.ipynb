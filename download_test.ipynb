{
 "cells": [
  {
   "cell_type": "code",
   "execution_count": 8,
   "metadata": {},
   "outputs": [],
   "source": [
    "import requests\n",
    "import pandas as pd\n",
    "import os"
   ]
  },
  {
   "cell_type": "code",
   "execution_count": 3,
   "metadata": {},
   "outputs": [],
   "source": [
    "url = 'http://vitibrasil.cnpuv.embrapa.br/download/Producao.csv'"
   ]
  },
  {
   "cell_type": "code",
   "execution_count": 4,
   "metadata": {},
   "outputs": [],
   "source": [
    "# Realizar o download do arquivo CSV\n",
    "resposta = requests.get(url)"
   ]
  },
  {
   "cell_type": "code",
   "execution_count": 7,
   "metadata": {},
   "outputs": [
    {
     "name": "stdout",
     "output_type": "stream",
     "text": [
      "   id                        control                        produto  \\\n",
      "0   1                  VINHO DE MESA                  VINHO DE MESA   \n",
      "1   2                       vm_Tinto                          Tinto   \n",
      "2   3                      vm_Branco                         Branco   \n",
      "3   4                      vm_Rosado                         Rosado   \n",
      "4   5  VINHO FINO DE MESA (VINIFERA)  VINHO FINO DE MESA (VINIFERA)   \n",
      "\n",
      "        1970       1971       1972       1973       1974       1975  \\\n",
      "0  217208604  154264651  146953297  116710345  193875345  177401209   \n",
      "1  174224052  121133369  118180926   88589019  146544484  144274134   \n",
      "2     748400    1160500    1812367     243900    4138768    1441507   \n",
      "3   42236152   31970782   26960004   27877426   43192093   31685568   \n",
      "4   23899346   23586062   21078771   12368410   31644124   39424590   \n",
      "\n",
      "        1976  ...       2014       2015      2016       2017       2018  \\\n",
      "0  144565438  ...  196173123  210308560  86319015  255015187  218375636   \n",
      "1  118360170  ...  157776363  169811472  75279191    1365957  188270142   \n",
      "2    1871473  ...   37438069   39557250  10727099  217527985   29229970   \n",
      "3   24333795  ...     958691     939838    312725   36121245     875524   \n",
      "4   34500590  ...   38464314   37148982  18070626   44537870   38707220   \n",
      "\n",
      "        2019       2020       2021       2022       2023  \n",
      "0  144629737  124200414  173899995  195031611  169762429  \n",
      "1  121045115  103916391  146075996  162844214  139320884  \n",
      "2   22032828   19568734   26432799   30198430   27910299  \n",
      "3    1551794     715289    1391200    1988968    2531246  \n",
      "4   37615422   32516686   43474998   47511796   46268556  \n",
      "\n",
      "[5 rows x 57 columns]\n"
     ]
    }
   ],
   "source": [
    "if resposta.status_code == 200:\n",
    "    # Salvar o conteúdo em um arquivo local\n",
    "    with open('Producao.csv', 'wb') as arquivo:\n",
    "        arquivo.write(resposta.content)\n",
    "    \n",
    "    # Ler o arquivo CSV usando pandas\n",
    "    df = pd.read_csv('Producao.csv', delimiter=';')\n",
    "    \n",
    "    # Exibir as primeiras linhas do DataFrame para verificar\n",
    "    print(df.head())\n",
    "else:\n",
    "    print(\"Falha no download do arquivo.\")"
   ]
  },
  {
   "cell_type": "code",
   "execution_count": 9,
   "metadata": {},
   "outputs": [],
   "source": [
    "os.remove('Producao.csv')"
   ]
  }
 ],
 "metadata": {
  "kernelspec": {
   "display_name": "base",
   "language": "python",
   "name": "python3"
  },
  "language_info": {
   "codemirror_mode": {
    "name": "ipython",
    "version": 3
   },
   "file_extension": ".py",
   "mimetype": "text/x-python",
   "name": "python",
   "nbconvert_exporter": "python",
   "pygments_lexer": "ipython3",
   "version": "3.11.7"
  }
 },
 "nbformat": 4,
 "nbformat_minor": 2
}
